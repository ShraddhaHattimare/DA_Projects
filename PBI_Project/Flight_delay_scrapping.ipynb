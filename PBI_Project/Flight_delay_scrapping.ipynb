{
  "nbformat": 4,
  "nbformat_minor": 0,
  "metadata": {
    "colab": {
      "provenance": []
    },
    "kernelspec": {
      "name": "python3",
      "display_name": "Python 3"
    },
    "language_info": {
      "name": "python"
    }
  },
  "cells": [
    {
      "cell_type": "code",
      "source": [
        "import pandas as pd\n",
        "import numpy as np\n",
        "import matplotlib.pyplot as plt\n",
        "import seaborn as sns\n",
        "import requests\n",
        "from bs4 import BeautifulSoup\n",
        "import random\n",
        "\n",
        "# URL that contains HTML table with flight delay data\n",
        "url = \"https://www.flightstats.com/v2/flight-tracker/departures/DOH\"  # Example: Doha departures\n",
        "\n",
        "# Send request to the website\n",
        "headers = {\"User-Agent\": \"Mozilla/5.0\"}\n",
        "response = requests.get(url, headers=headers)\n",
        "\n",
        "# Check status\n",
        "if response.status_code == 200:\n",
        "    # Parse HTML content\n",
        "    soup = BeautifulSoup(response.text, \"lxml\")\n",
        "\n",
        "    # Check for tables\n",
        "    tables = soup.find_all(\"table\")\n",
        "    df_list = []\n",
        "    if tables:\n",
        "     df_list = pd.read_html(str(tables))\n",
        "    for i, df in enumerate(df_list):\n",
        "          print(f\"\\nTable {i}:\\n\", df.head())\n",
        "    else:\n",
        "      print(\"No HTML <table> elements found on this page.\")\n",
        "      for row in soup.find_all(\"h2\",class_= \"table__CellText-sc-1x7nv9w-15 fcTUax\"):  # flight name\n",
        "        # print(row.text.strip())\n",
        "        df_list.append(row.text.strip())\n",
        "      print(df_list)\n",
        "      flights = df_list[::4]\n",
        "      arrival_time = df_list[1::4]\n",
        "      departure_time = df_list[2::4]\n",
        "      destinations =df_list[3::4]\n",
        "      # print(flights)\n",
        "      # print(arrival_time)\n",
        "      # print(departure_time)\n",
        "      # print(destinations)\n",
        "      delayInMinutes = []\n",
        "      for i in range(len(flights)):\n",
        "        delayInMinutes.append(np.random.randint(0,200))\n",
        "\n",
        "      #print(delayInMinutes)\n",
        "      delay_reasons = [\"Weather\",\"Security\",\"NAS\",\"Carrier\",\"Aircraft\"]\n",
        "      delayReason = random.choices(delay_reasons,k=len(flights))\n",
        "      print(delayReason)\n",
        "\n",
        "      flight_dict = {\"FlightID\":flights,\"ArrivalTime\":arrival_time,\"DepartureTime\": departure_time,\n",
        "                     \"Destination\":destinations ,\"DelayInMinutes\": delayInMinutes,\n",
        "                     \"DelayReason\":delayReason}\n",
        "\n",
        "      scrapped_flight_data = pd.DataFrame(flight_dict)\n",
        "      print(scrapped_flight_data)\n",
        "\n",
        "\n"
      ],
      "metadata": {
        "colab": {
          "base_uri": "https://localhost:8080/"
        },
        "id": "1x3KMRBk5tHT",
        "outputId": "fdb55e04-dbea-45c7-f42a-d71e0001b905"
      },
      "execution_count": null,
      "outputs": [
        {
          "output_type": "stream",
          "name": "stdout",
          "text": [
            "No HTML <table> elements found on this page.\n",
            "['RJ 651', '06:25', '09:30', 'AMM', 'QR 6100', '06:25', '09:30', 'AMM', 'QR 8207', '07:15', '13:00', 'AMS', 'QR 231', '07:20', '11:40', 'BEG', 'CX 9217', '07:20', '11:40', 'BEG', 'JU 8300', '07:20', '11:40', 'BEG', 'MH 9765', '07:20', '11:40', 'BEG', 'UL 3041', '07:20', '11:40', 'BEG', 'VA 6072', '07:20', '11:40', 'BEG', 'WB 1474', '07:20', '11:40', 'BEG', 'QR 1178', '07:20', '09:45', 'MED', 'AA 8243', '07:20', '09:45', 'MED', 'BA 2366', '07:20', '09:45', 'MED', 'CX 9236', '07:20', '09:45', 'MED', 'IB 6131', '07:20', '09:45', 'MED', 'MH 4142', '07:20', '09:45', 'MED', 'VA 6142', '07:20', '09:45', 'MED', 'QR 1190', '07:30', '10:00', 'JED', 'AA 8263', '07:30', '10:00', 'JED', 'BA 2360', '07:30', '10:00', 'JED', 'CX 9308', '07:30', '10:00', 'JED', 'IB 6149', '07:30', '10:00', 'JED', 'JL 5599', '07:30', '10:00', 'JED', 'MH 4148', '07:30', '10:00', 'JED', 'VA 6071', '07:30', '10:00', 'JED']\n",
            "['NAS', 'Security', 'Aircraft', 'Security', 'Weather', 'Security', 'Security', 'Security', 'NAS', 'Carrier', 'Aircraft', 'Weather', 'Aircraft', 'Carrier', 'Aircraft', 'Weather', 'Security', 'Weather', 'NAS', 'Weather', 'Security', 'Carrier', 'Carrier', 'NAS', 'Weather']\n",
            "   FlightID ArrivalTime DepartureTime Destination  DelayInMinutes DelayReason\n",
            "0    RJ 651       06:25         09:30         AMM             194         NAS\n",
            "1   QR 6100       06:25         09:30         AMM              90    Security\n",
            "2   QR 8207       07:15         13:00         AMS             179    Aircraft\n",
            "3    QR 231       07:20         11:40         BEG              23    Security\n",
            "4   CX 9217       07:20         11:40         BEG             199     Weather\n",
            "5   JU 8300       07:20         11:40         BEG             195    Security\n",
            "6   MH 9765       07:20         11:40         BEG              70    Security\n",
            "7   UL 3041       07:20         11:40         BEG             158    Security\n",
            "8   VA 6072       07:20         11:40         BEG              36         NAS\n",
            "9   WB 1474       07:20         11:40         BEG              85     Carrier\n",
            "10  QR 1178       07:20         09:45         MED             148    Aircraft\n",
            "11  AA 8243       07:20         09:45         MED             126     Weather\n",
            "12  BA 2366       07:20         09:45         MED             120    Aircraft\n",
            "13  CX 9236       07:20         09:45         MED             121     Carrier\n",
            "14  IB 6131       07:20         09:45         MED             184    Aircraft\n",
            "15  MH 4142       07:20         09:45         MED              19     Weather\n",
            "16  VA 6142       07:20         09:45         MED              12    Security\n",
            "17  QR 1190       07:30         10:00         JED               6     Weather\n",
            "18  AA 8263       07:30         10:00         JED             138         NAS\n",
            "19  BA 2360       07:30         10:00         JED             143     Weather\n",
            "20  CX 9308       07:30         10:00         JED               9    Security\n",
            "21  IB 6149       07:30         10:00         JED              55     Carrier\n",
            "22  JL 5599       07:30         10:00         JED              26     Carrier\n",
            "23  MH 4148       07:30         10:00         JED              14         NAS\n",
            "24  VA 6071       07:30         10:00         JED             120     Weather\n"
          ]
        }
      ]
    }
  ]
}